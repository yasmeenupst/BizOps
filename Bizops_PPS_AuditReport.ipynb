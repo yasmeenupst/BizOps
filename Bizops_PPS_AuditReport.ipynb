{
 "cells": [
  {
   "cell_type": "code",
   "execution_count": 1,
   "metadata": {},
   "outputs": [],
   "source": [
    "import pandas as pd\n",
    "import csv\n",
    "import matplotlib.pyplot as plt\n",
    "%matplotlib inline\n",
    "import matplotlib.ticker as tick \n",
    "from matplotlib.ticker import PercentFormatter \n",
    "from matplotlib import dates as mpl_dates\n",
    "import seaborn as sns\n",
    "import numpy as np\n",
    "import datetime\n",
    "import itertools\n",
    "import time,datetime\n",
    "from datetime import datetime, timedelta,date\n",
    "from collections import defaultdict"
   ]
  },
  {
   "cell_type": "code",
   "execution_count": 2,
   "metadata": {},
   "outputs": [],
   "source": [
    "df8= pd.read_csv(\"/Users/yasmeen.karachiwala/Desktop/Yasmeen_Project/RtoPython - RtoPython - ETA_1.csv\")"
   ]
  },
  {
   "cell_type": "code",
   "execution_count": 3,
   "metadata": {},
   "outputs": [],
   "source": [
    "df8[\"Occurence\"]=df8.groupby(by='Static Loan Attributes Loan Name')[\"Static Loan Attributes Loan Name\"].transform('count')"
   ]
  },
  {
   "cell_type": "code",
   "execution_count": 4,
   "metadata": {},
   "outputs": [],
   "source": [
    "df8 = df8[df8[\"Occurence\"]>1]"
   ]
  },
  {
   "cell_type": "code",
   "execution_count": 5,
   "metadata": {},
   "outputs": [
    {
     "name": "stdout",
     "output_type": "stream",
     "text": [
      "<class 'pandas.core.frame.DataFrame'>\n",
      "Int64Index: 290605 entries, 0 to 497078\n",
      "Data columns (total 5 columns):\n",
      " #   Column                                                                     Non-Null Count   Dtype \n",
      "---  ------                                                                     --------------   ----- \n",
      " 0   Static Loan Attributes Loan Name                                           290605 non-null  object\n",
      " 1   Most Recent Payment Preference Sets Created Date                           290605 non-null  object\n",
      " 2   Most Recent Payment Preference Sets Delivery Method Description            290605 non-null  object\n",
      " 3   Most Recent Payment Preference Sets Has Ach Autopay Configured (Yes / No)  290605 non-null  object\n",
      " 4   Occurence                                                                  290605 non-null  int64 \n",
      "dtypes: int64(1), object(4)\n",
      "memory usage: 13.3+ MB\n"
     ]
    }
   ],
   "source": [
    "df8.info()"
   ]
  },
  {
   "cell_type": "code",
   "execution_count": 6,
   "metadata": {},
   "outputs": [],
   "source": [
    "res={}\n",
    "batch=set()\n",
    "for index, row in df8.iterrows():\n",
    "    current_Id = row[\"Static Loan Attributes Loan Name\"]\n",
    "    if (row[\"Most Recent Payment Preference Sets Has Ach Autopay Configured (Yes / No)\"]==\"Yes\"):\n",
    "        batch.add(current_Id)\n",
    "        first_date = row[\"Most Recent Payment Preference Sets Created Date\"]\n",
    "    elif (row[\"Most Recent Payment Preference Sets Has Ach Autopay Configured (Yes / No)\"]==\"No\"):\n",
    "        second_date = row[\"Most Recent Payment Preference Sets Created Date\"]\n",
    "        if (current_Id in batch and current_Id not in res) : \n",
    "            ach_status=row[\"Most Recent Payment Preference Sets Has Ach Autopay Configured (Yes / No)\"]\n",
    "            res[current_Id]=[second_date,ach_status]\n",
    "            batch.remove(current_Id)"
   ]
  },
  {
   "cell_type": "code",
   "execution_count": 7,
   "metadata": {},
   "outputs": [],
   "source": [
    "df8_=pd.DataFrame(res.items(), columns=['second_date', 'ach_status'])"
   ]
  },
  {
   "cell_type": "code",
   "execution_count": 8,
   "metadata": {},
   "outputs": [],
   "source": [
    "df8_.to_csv('/Users/yasmeen.karachiwala/Desktop/Yasmeen_Project/ETA_V3.csv')"
   ]
  },
  {
   "cell_type": "code",
   "execution_count": null,
   "metadata": {},
   "outputs": [],
   "source": []
  }
 ],
 "metadata": {
  "kernelspec": {
   "display_name": "Python 3",
   "language": "python",
   "name": "python3"
  },
  "language_info": {
   "codemirror_mode": {
    "name": "ipython",
    "version": 3
   },
   "file_extension": ".py",
   "mimetype": "text/x-python",
   "name": "python",
   "nbconvert_exporter": "python",
   "pygments_lexer": "ipython3",
   "version": "3.8.3"
  }
 },
 "nbformat": 4,
 "nbformat_minor": 4
}
